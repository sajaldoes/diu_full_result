{
  "cells": [
    {
      "cell_type": "code",
      "execution_count": null,
      "metadata": {
        "id": "klsITHhZOavt"
      },
      "outputs": [],
      "source": [
        "import pandas as pd\n",
        "from urllib.request import urlopen\n",
        "import json"
      ]
    },
    {
      "cell_type": "code",
      "execution_count": null,
      "metadata": {},
      "outputs": [],
      "source": [
        "base_url = f\"\""
      ]
    },
    {
      "cell_type": "code",
      "execution_count": null,
      "metadata": {
        "colab": {
          "base_uri": "https://localhost:8080/"
        },
        "id": "GvxhJqC1RCKX",
        "outputId": "46ca885b-7859-4b1a-ea0d-229d3de28184"
      },
      "outputs": [
        {
          "name": "stdout",
          "output_type": "stream",
          "text": [
            "Enter your ID: 191-15-12179\n"
          ]
        }
      ],
      "source": [
        "id = input(\"Enter your ID: \")\n",
        "sem = id.split(\"-\")[0]"
      ]
    },
    {
      "cell_type": "code",
      "execution_count": null,
      "metadata": {
        "colab": {
          "base_uri": "https://localhost:8080/"
        },
        "id": "nJhebGktRy6G",
        "outputId": "794f7679-6938-40aa-e19c-dc26a8eeebfd"
      },
      "outputs": [],
      "source": [
        "#@title\n",
        "semesters = [191, 192, 193, 201, 202, 203, 211, 212, 213, 221, 222, 223]\n",
        "\n",
        "id = input(\"Enter your ID: \")\n",
        "sum_points = 0\n",
        "sum_credit = 0\n",
        "result_dict = {\n",
        "    \"Semester\": [],\n",
        "    \"Course\": [],\n",
        "    \"Grade\": [],\n",
        "    \"Grade Point\": [],\n",
        "    \"Credit\": [],\n",
        "    \"Point\": [],\n",
        "    \"CGPA\":0\n",
        "}\n",
        "\n",
        "for s in semesters:\n",
        "    result_url = f\"http://software.diu.edu.bd:8189/result?grecaptcha=&semesterId={s}&studentId={id}\"\n",
        "    response = urlopen(result_url)\n",
        "    data_json = json.loads(response.read())\n",
        "    print(\"Semester:\", s)\n",
        "    for c in data_json:\n",
        "        c_semyr = c[\"semesterName\"] + \"-\" + str(c[\"semesterYear\"])\n",
        "        c_title = c[\"courseTitle\"]\n",
        "        c_grade = c[\"gradeLetter\"]\n",
        "        c_gp = c[\"pointEquivalent\"]\n",
        "        c_credit = c[\"totalCredit\"]\n",
        "        c_point = c_gp * c_credit\n",
        "\n",
        "        result_dict[\"Semester\"].append(c_semyr)\n",
        "        result_dict[\"Course\"].append(c_title)\n",
        "        result_dict[\"Grade\"].append(c_grade)\n",
        "        result_dict[\"Grade Point\"].append(c_gp)\n",
        "        result_dict[\"Credit\"].append(c_credit)\n",
        "        result_dict[\"Point\"].append(c_point)\n",
        "        \n",
        "        sum_points += c_point\n",
        "        sum_credit += c_credit\n",
        "        \n",
        "result_dict[\"CGPA\"] = round(sum_points/sum_credit, 2)\n",
        "df = pd.DataFrame.from_dict(result_dict)\n",
        "df.to_csv(f\"{id}_result.csv\")\n",
        "print(\"###########################\")\n",
        "print(\"\\tCGPA:\", round(sum_points/sum_credit, 2))\n",
        "print(\"###########################\")"
      ]
    }
  ],
  "metadata": {
    "colab": {
      "provenance": []
    },
    "kernelspec": {
      "display_name": "base",
      "language": "python",
      "name": "python3"
    },
    "language_info": {
      "name": "python",
      "version": "3.9.12 (main, Apr  4 2022, 05:22:27) [MSC v.1916 64 bit (AMD64)]"
    },
    "vscode": {
      "interpreter": {
        "hash": "bc5c8107e9b9f584c67bdb35b448e63767bd7fdb4fdaa02efc50757b45f9e013"
      }
    }
  },
  "nbformat": 4,
  "nbformat_minor": 0
}
