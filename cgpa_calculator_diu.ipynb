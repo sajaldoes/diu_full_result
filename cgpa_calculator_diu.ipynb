{
  "cells": [
    {
      "cell_type": "code",
      "execution_count": 1,
      "metadata": {
        "id": "klsITHhZOavt"
      },
      "outputs": [],
      "source": [
        "import pandas as pd\n",
        "from urllib.request import urlopen\n",
        "import json"
      ]
    },
    {
      "cell_type": "code",
      "execution_count": null,
      "metadata": {},
      "outputs": [],
      "source": [
        "base_url = f\"\""
      ]
    },
    {
      "cell_type": "code",
      "execution_count": 2,
      "metadata": {
        "colab": {
          "base_uri": "https://localhost:8080/"
        },
        "id": "GvxhJqC1RCKX",
        "outputId": "46ca885b-7859-4b1a-ea0d-229d3de28184"
      },
      "outputs": [
        {
          "data": {
            "text/plain": [
              "'181'"
            ]
          },
          "execution_count": 2,
          "metadata": {},
          "output_type": "execute_result"
        }
      ],
      "source": [
        "id = input(\"Enter your ID: \")\n",
        "s_sem = id.split(\"-\")[0]\n",
        "s_sem"
      ]
    },
    {
      "cell_type": "code",
      "execution_count": 11,
      "metadata": {},
      "outputs": [
        {
          "name": "stdout",
          "output_type": "stream",
          "text": [
            "181\n",
            "182\n",
            "183\n",
            "191\n",
            "192\n",
            "193\n",
            "201\n",
            "202\n",
            "203\n",
            "211\n",
            "212\n",
            "213\n"
          ]
        }
      ],
      "source": [
        "s = int(s_sem)\n",
        "c = 0\n",
        "for i in range(0,12):\n",
        "\tc+=1\n",
        "\ts = s\n",
        "\n",
        "\tif c==3:\n",
        "\t\tc=0\n",
        "\t\ts+=7\n",
        "\ts+=1"
      ]
    },
    {
      "cell_type": "code",
      "execution_count": 19,
      "metadata": {
        "colab": {
          "base_uri": "https://localhost:8080/"
        },
        "id": "nJhebGktRy6G",
        "outputId": "794f7679-6938-40aa-e19c-dc26a8eeebfd"
      },
      "outputs": [
        {
          "name": "stdout",
          "output_type": "stream",
          "text": [
            "181\n",
            "Semester: 181\n",
            "Semester: 182\n",
            "Semester: 183\n",
            "Semester: 191\n",
            "Semester: 192\n",
            "Semester: 193\n",
            "Semester: 201\n",
            "Semester: 202\n",
            "Semester: 203\n",
            "Semester: 211\n",
            "Semester: 212\n",
            "Semester: 213\n",
            "###########################\n",
            "\tCGPA: 4.0\n",
            "###########################\n"
          ]
        }
      ],
      "source": [
        "#@title\n",
        "# semesters = [191, 192, 193, 201, 202, 203, 211, 212, 213, 221, 222, 223]\n",
        "\n",
        "id = input(\"Enter your ID: \")\n",
        "s_sem = id.split(\"-\")[0]\n",
        "s = int(s_sem)\n",
        "sum_points = 0\n",
        "sum_credit = 0\n",
        "result_dict = {\n",
        "    \"Semester\": [],\n",
        "    \"Course\": [],\n",
        "    \"Grade\": [],\n",
        "    \"Grade Point\": [],\n",
        "    \"Credit\": [],\n",
        "    \"Point\": [],\n",
        "    \"CGPA\":0\n",
        "}\n",
        "\n",
        "count = 0\n",
        "for i in range(0,12):\n",
        "    result_url = f\"http://software.diu.edu.bd:8189/result?grecaptcha=&semesterId={s}&studentId={id}\"\n",
        "    response = urlopen(result_url)\n",
        "    data_json = json.loads(response.read())\n",
        "    print(\"Semester:\", s)\n",
        "    for c in data_json:\n",
        "        c_semyr = c[\"semesterName\"] + \"-\" + str(c[\"semesterYear\"])\n",
        "        c_title = c[\"courseTitle\"]\n",
        "        c_grade = c[\"gradeLetter\"]\n",
        "        c_gp = c[\"pointEquivalent\"]\n",
        "        c_credit = c[\"totalCredit\"]\n",
        "        c_point = c_gp * c_credit\n",
        "\n",
        "        result_dict[\"Semester\"].append(c_semyr)\n",
        "        result_dict[\"Course\"].append(c_title)\n",
        "        result_dict[\"Grade\"].append(c_grade)\n",
        "        result_dict[\"Grade Point\"].append(c_gp)\n",
        "        result_dict[\"Credit\"].append(c_credit)\n",
        "        result_dict[\"Point\"].append(c_point)\n",
        "        \n",
        "        sum_points += c_point\n",
        "        sum_credit += c_credit\n",
        "    count+=1\n",
        "    if s%10==3:\n",
        "        count=0\n",
        "        s+=7\n",
        "    \n",
        "    s+=1\n",
        "        \n",
        "result_dict[\"CGPA\"] = round(sum_points/sum_credit, 2)\n",
        "df = pd.DataFrame.from_dict(result_dict)\n",
        "df.to_csv(f\"{id}_result.csv\")\n",
        "print(\"###########################\")\n",
        "print(\"\\tCGPA:\", round(sum_points/sum_credit, 2))\n",
        "print(\"###########################\")"
      ]
    },
    {
      "cell_type": "code",
      "execution_count": null,
      "metadata": {},
      "outputs": [],
      "source": []
    }
  ],
  "metadata": {
    "colab": {
      "provenance": []
    },
    "kernelspec": {
      "display_name": "base",
      "language": "python",
      "name": "python3"
    },
    "language_info": {
      "codemirror_mode": {
        "name": "ipython",
        "version": 3
      },
      "file_extension": ".py",
      "mimetype": "text/x-python",
      "name": "python",
      "nbconvert_exporter": "python",
      "pygments_lexer": "ipython3",
      "version": "3.9.12"
    },
    "vscode": {
      "interpreter": {
        "hash": "bc5c8107e9b9f584c67bdb35b448e63767bd7fdb4fdaa02efc50757b45f9e013"
      }
    }
  },
  "nbformat": 4,
  "nbformat_minor": 0
}
